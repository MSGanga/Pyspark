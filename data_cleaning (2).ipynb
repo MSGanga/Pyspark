{
  "nbformat": 4,
  "nbformat_minor": 0,
  "metadata": {
    "colab": {
      "name": "data cleaning.ipynb",
      "provenance": [],
      "collapsed_sections": []
    },
    "kernelspec": {
      "name": "python3",
      "display_name": "Python 3"
    },
    "language_info": {
      "name": "python"
    }
  },
  "cells": [
    {
      "cell_type": "code",
      "execution_count": null,
      "metadata": {
        "id": "ZQUasVyZaMEy"
      },
      "outputs": [],
      "source": [
        "import pandas as pd"
      ]
    },
    {
      "cell_type": "code",
      "source": [
        "from google.colab import files\n",
        "files.upload()"
      ],
      "metadata": {
        "colab": {
          "resources": {
            "http://localhost:8080/nbextensions/google.colab/files.js": {
              "data": "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",
              "ok": true,
              "headers": [
                [
                  "content-type",
                  "application/javascript"
                ]
              ],
              "status": 200,
              "status_text": ""
            }
          },
          "base_uri": "https://localhost:8080/",
          "height": 111
        },
        "id": "QBuJCrb4a0Na",
        "outputId": "829c830d-8661-4a10-ef08-9d3d125a34e4"
      },
      "execution_count": null,
      "outputs": [
        {
          "output_type": "display_data",
          "data": {
            "text/html": [
              "\n",
              "     <input type=\"file\" id=\"files-08262f32-1d76-4b2c-8fd0-7e9e39abcbc0\" name=\"files[]\" multiple disabled\n",
              "        style=\"border:none\" />\n",
              "     <output id=\"result-08262f32-1d76-4b2c-8fd0-7e9e39abcbc0\">\n",
              "      Upload widget is only available when the cell has been executed in the\n",
              "      current browser session. Please rerun this cell to enable.\n",
              "      </output>\n",
              "      <script src=\"/nbextensions/google.colab/files.js\"></script> "
            ],
            "text/plain": [
              "<IPython.core.display.HTML object>"
            ]
          },
          "metadata": {}
        },
        {
          "output_type": "stream",
          "name": "stdout",
          "text": [
            "Saving SAMPLE.csv to SAMPLE.csv\n"
          ]
        },
        {
          "output_type": "execute_result",
          "data": {
            "text/plain": [
              "{'SAMPLE.csv': b'\\xef\\xbb\\xbfsl No,name,college,age,hsc,SSLC,arrears,cmark\\r\\n1,A1,IITM,,89.9,92.6,0,95\\r\\n2,A2,ANNA UNIVERSITY,,76.8,77.9,,89\\r\\n3,A3,ANNA UNIVERSITY,,88.39,85.6,6,99\\r\\n4,A4,ANAMALAI UNIVERSITY,,92.5,94.6,1,76\\r\\n5,A5,,,79.3,65,2,89\\r\\n6,A6,SRM,,,88.1,0,89.6\\r\\n7,A7,SAVEETHA,,91.8,,7,78.3\\r\\n8,A8,,,99.8,65.8,6,77.5\\r\\n,,,,,,,\\r\\n9,A9,ANAMALAI UNIVERSITY,,98.7,91,2,76\\r\\n10,AD,fogjof,,56,9,78,2\\r\\n11,A10,IITM,,94,77.6,1,75\\r\\n12,A11,IITK,,88.2,75.9,2,72\\r\\n13,A12,,,78.9,84.9,3,83\\r\\n14,A13,SRM,,86.9,97,4,92\\r\\n'}"
            ]
          },
          "metadata": {},
          "execution_count": 11
        }
      ]
    },
    {
      "cell_type": "code",
      "source": [
        "df = pd.read_csv(\"/content/SAMPLE.csv\")\n",
        "df"
      ],
      "metadata": {
        "colab": {
          "base_uri": "https://localhost:8080/",
          "height": 520
        },
        "id": "L4-_FsLXbDVD",
        "outputId": "7b227a56-d296-4864-eb83-9e13fa06a581"
      },
      "execution_count": null,
      "outputs": [
        {
          "output_type": "execute_result",
          "data": {
            "text/html": [
              "\n",
              "  <div id=\"df-7bd556c1-7382-463f-8bd0-663d984dd336\">\n",
              "    <div class=\"colab-df-container\">\n",
              "      <div>\n",
              "<style scoped>\n",
              "    .dataframe tbody tr th:only-of-type {\n",
              "        vertical-align: middle;\n",
              "    }\n",
              "\n",
              "    .dataframe tbody tr th {\n",
              "        vertical-align: top;\n",
              "    }\n",
              "\n",
              "    .dataframe thead th {\n",
              "        text-align: right;\n",
              "    }\n",
              "</style>\n",
              "<table border=\"1\" class=\"dataframe\">\n",
              "  <thead>\n",
              "    <tr style=\"text-align: right;\">\n",
              "      <th></th>\n",
              "      <th>sl No</th>\n",
              "      <th>name</th>\n",
              "      <th>college</th>\n",
              "      <th>age</th>\n",
              "      <th>hsc</th>\n",
              "      <th>SSLC</th>\n",
              "      <th>arrears</th>\n",
              "      <th>cmark</th>\n",
              "    </tr>\n",
              "  </thead>\n",
              "  <tbody>\n",
              "    <tr>\n",
              "      <th>0</th>\n",
              "      <td>1.0</td>\n",
              "      <td>A1</td>\n",
              "      <td>IITM</td>\n",
              "      <td>NaN</td>\n",
              "      <td>89.90</td>\n",
              "      <td>92.6</td>\n",
              "      <td>0.0</td>\n",
              "      <td>95.0</td>\n",
              "    </tr>\n",
              "    <tr>\n",
              "      <th>1</th>\n",
              "      <td>2.0</td>\n",
              "      <td>A2</td>\n",
              "      <td>ANNA UNIVERSITY</td>\n",
              "      <td>NaN</td>\n",
              "      <td>76.80</td>\n",
              "      <td>77.9</td>\n",
              "      <td>NaN</td>\n",
              "      <td>89.0</td>\n",
              "    </tr>\n",
              "    <tr>\n",
              "      <th>2</th>\n",
              "      <td>3.0</td>\n",
              "      <td>A3</td>\n",
              "      <td>ANNA UNIVERSITY</td>\n",
              "      <td>NaN</td>\n",
              "      <td>88.39</td>\n",
              "      <td>85.6</td>\n",
              "      <td>6.0</td>\n",
              "      <td>99.0</td>\n",
              "    </tr>\n",
              "    <tr>\n",
              "      <th>3</th>\n",
              "      <td>4.0</td>\n",
              "      <td>A4</td>\n",
              "      <td>ANAMALAI UNIVERSITY</td>\n",
              "      <td>NaN</td>\n",
              "      <td>92.50</td>\n",
              "      <td>94.6</td>\n",
              "      <td>1.0</td>\n",
              "      <td>76.0</td>\n",
              "    </tr>\n",
              "    <tr>\n",
              "      <th>4</th>\n",
              "      <td>5.0</td>\n",
              "      <td>A5</td>\n",
              "      <td>NaN</td>\n",
              "      <td>NaN</td>\n",
              "      <td>79.30</td>\n",
              "      <td>65.0</td>\n",
              "      <td>2.0</td>\n",
              "      <td>89.0</td>\n",
              "    </tr>\n",
              "    <tr>\n",
              "      <th>5</th>\n",
              "      <td>6.0</td>\n",
              "      <td>A6</td>\n",
              "      <td>SRM</td>\n",
              "      <td>NaN</td>\n",
              "      <td>NaN</td>\n",
              "      <td>88.1</td>\n",
              "      <td>0.0</td>\n",
              "      <td>89.6</td>\n",
              "    </tr>\n",
              "    <tr>\n",
              "      <th>6</th>\n",
              "      <td>7.0</td>\n",
              "      <td>A7</td>\n",
              "      <td>SAVEETHA</td>\n",
              "      <td>NaN</td>\n",
              "      <td>91.80</td>\n",
              "      <td>NaN</td>\n",
              "      <td>7.0</td>\n",
              "      <td>78.3</td>\n",
              "    </tr>\n",
              "    <tr>\n",
              "      <th>7</th>\n",
              "      <td>8.0</td>\n",
              "      <td>A8</td>\n",
              "      <td>NaN</td>\n",
              "      <td>NaN</td>\n",
              "      <td>99.80</td>\n",
              "      <td>65.8</td>\n",
              "      <td>6.0</td>\n",
              "      <td>77.5</td>\n",
              "    </tr>\n",
              "    <tr>\n",
              "      <th>8</th>\n",
              "      <td>NaN</td>\n",
              "      <td>NaN</td>\n",
              "      <td>NaN</td>\n",
              "      <td>NaN</td>\n",
              "      <td>NaN</td>\n",
              "      <td>NaN</td>\n",
              "      <td>NaN</td>\n",
              "      <td>NaN</td>\n",
              "    </tr>\n",
              "    <tr>\n",
              "      <th>9</th>\n",
              "      <td>9.0</td>\n",
              "      <td>A9</td>\n",
              "      <td>ANAMALAI UNIVERSITY</td>\n",
              "      <td>NaN</td>\n",
              "      <td>98.70</td>\n",
              "      <td>91.0</td>\n",
              "      <td>2.0</td>\n",
              "      <td>76.0</td>\n",
              "    </tr>\n",
              "    <tr>\n",
              "      <th>10</th>\n",
              "      <td>10.0</td>\n",
              "      <td>AD</td>\n",
              "      <td>fogjof</td>\n",
              "      <td>NaN</td>\n",
              "      <td>56.00</td>\n",
              "      <td>9.0</td>\n",
              "      <td>78.0</td>\n",
              "      <td>2.0</td>\n",
              "    </tr>\n",
              "    <tr>\n",
              "      <th>11</th>\n",
              "      <td>11.0</td>\n",
              "      <td>A10</td>\n",
              "      <td>IITM</td>\n",
              "      <td>NaN</td>\n",
              "      <td>94.00</td>\n",
              "      <td>77.6</td>\n",
              "      <td>1.0</td>\n",
              "      <td>75.0</td>\n",
              "    </tr>\n",
              "    <tr>\n",
              "      <th>12</th>\n",
              "      <td>12.0</td>\n",
              "      <td>A11</td>\n",
              "      <td>IITK</td>\n",
              "      <td>NaN</td>\n",
              "      <td>88.20</td>\n",
              "      <td>75.9</td>\n",
              "      <td>2.0</td>\n",
              "      <td>72.0</td>\n",
              "    </tr>\n",
              "    <tr>\n",
              "      <th>13</th>\n",
              "      <td>13.0</td>\n",
              "      <td>A12</td>\n",
              "      <td>NaN</td>\n",
              "      <td>NaN</td>\n",
              "      <td>78.90</td>\n",
              "      <td>84.9</td>\n",
              "      <td>3.0</td>\n",
              "      <td>83.0</td>\n",
              "    </tr>\n",
              "    <tr>\n",
              "      <th>14</th>\n",
              "      <td>14.0</td>\n",
              "      <td>A13</td>\n",
              "      <td>SRM</td>\n",
              "      <td>NaN</td>\n",
              "      <td>86.90</td>\n",
              "      <td>97.0</td>\n",
              "      <td>4.0</td>\n",
              "      <td>92.0</td>\n",
              "    </tr>\n",
              "  </tbody>\n",
              "</table>\n",
              "</div>\n",
              "      <button class=\"colab-df-convert\" onclick=\"convertToInteractive('df-7bd556c1-7382-463f-8bd0-663d984dd336')\"\n",
              "              title=\"Convert this dataframe to an interactive table.\"\n",
              "              style=\"display:none;\">\n",
              "        \n",
              "  <svg xmlns=\"http://www.w3.org/2000/svg\" height=\"24px\"viewBox=\"0 0 24 24\"\n",
              "       width=\"24px\">\n",
              "    <path d=\"M0 0h24v24H0V0z\" fill=\"none\"/>\n",
              "    <path d=\"M18.56 5.44l.94 2.06.94-2.06 2.06-.94-2.06-.94-.94-2.06-.94 2.06-2.06.94zm-11 1L8.5 8.5l.94-2.06 2.06-.94-2.06-.94L8.5 2.5l-.94 2.06-2.06.94zm10 10l.94 2.06.94-2.06 2.06-.94-2.06-.94-.94-2.06-.94 2.06-2.06.94z\"/><path d=\"M17.41 7.96l-1.37-1.37c-.4-.4-.92-.59-1.43-.59-.52 0-1.04.2-1.43.59L10.3 9.45l-7.72 7.72c-.78.78-.78 2.05 0 2.83L4 21.41c.39.39.9.59 1.41.59.51 0 1.02-.2 1.41-.59l7.78-7.78 2.81-2.81c.8-.78.8-2.07 0-2.86zM5.41 20L4 18.59l7.72-7.72 1.47 1.35L5.41 20z\"/>\n",
              "  </svg>\n",
              "      </button>\n",
              "      \n",
              "  <style>\n",
              "    .colab-df-container {\n",
              "      display:flex;\n",
              "      flex-wrap:wrap;\n",
              "      gap: 12px;\n",
              "    }\n",
              "\n",
              "    .colab-df-convert {\n",
              "      background-color: #E8F0FE;\n",
              "      border: none;\n",
              "      border-radius: 50%;\n",
              "      cursor: pointer;\n",
              "      display: none;\n",
              "      fill: #1967D2;\n",
              "      height: 32px;\n",
              "      padding: 0 0 0 0;\n",
              "      width: 32px;\n",
              "    }\n",
              "\n",
              "    .colab-df-convert:hover {\n",
              "      background-color: #E2EBFA;\n",
              "      box-shadow: 0px 1px 2px rgba(60, 64, 67, 0.3), 0px 1px 3px 1px rgba(60, 64, 67, 0.15);\n",
              "      fill: #174EA6;\n",
              "    }\n",
              "\n",
              "    [theme=dark] .colab-df-convert {\n",
              "      background-color: #3B4455;\n",
              "      fill: #D2E3FC;\n",
              "    }\n",
              "\n",
              "    [theme=dark] .colab-df-convert:hover {\n",
              "      background-color: #434B5C;\n",
              "      box-shadow: 0px 1px 3px 1px rgba(0, 0, 0, 0.15);\n",
              "      filter: drop-shadow(0px 1px 2px rgba(0, 0, 0, 0.3));\n",
              "      fill: #FFFFFF;\n",
              "    }\n",
              "  </style>\n",
              "\n",
              "      <script>\n",
              "        const buttonEl =\n",
              "          document.querySelector('#df-7bd556c1-7382-463f-8bd0-663d984dd336 button.colab-df-convert');\n",
              "        buttonEl.style.display =\n",
              "          google.colab.kernel.accessAllowed ? 'block' : 'none';\n",
              "\n",
              "        async function convertToInteractive(key) {\n",
              "          const element = document.querySelector('#df-7bd556c1-7382-463f-8bd0-663d984dd336');\n",
              "          const dataTable =\n",
              "            await google.colab.kernel.invokeFunction('convertToInteractive',\n",
              "                                                     [key], {});\n",
              "          if (!dataTable) return;\n",
              "\n",
              "          const docLinkHtml = 'Like what you see? Visit the ' +\n",
              "            '<a target=\"_blank\" href=https://colab.research.google.com/notebooks/data_table.ipynb>data table notebook</a>'\n",
              "            + ' to learn more about interactive tables.';\n",
              "          element.innerHTML = '';\n",
              "          dataTable['output_type'] = 'display_data';\n",
              "          await google.colab.output.renderOutput(dataTable, element);\n",
              "          const docLink = document.createElement('div');\n",
              "          docLink.innerHTML = docLinkHtml;\n",
              "          element.appendChild(docLink);\n",
              "        }\n",
              "      </script>\n",
              "    </div>\n",
              "  </div>\n",
              "  "
            ],
            "text/plain": [
              "    sl No name              college  age    hsc  SSLC  arrears  cmark\n",
              "0     1.0   A1                 IITM  NaN  89.90  92.6      0.0   95.0\n",
              "1     2.0   A2      ANNA UNIVERSITY  NaN  76.80  77.9      NaN   89.0\n",
              "2     3.0   A3      ANNA UNIVERSITY  NaN  88.39  85.6      6.0   99.0\n",
              "3     4.0   A4  ANAMALAI UNIVERSITY  NaN  92.50  94.6      1.0   76.0\n",
              "4     5.0   A5                  NaN  NaN  79.30  65.0      2.0   89.0\n",
              "5     6.0   A6                  SRM  NaN    NaN  88.1      0.0   89.6\n",
              "6     7.0   A7             SAVEETHA  NaN  91.80   NaN      7.0   78.3\n",
              "7     8.0   A8                  NaN  NaN  99.80  65.8      6.0   77.5\n",
              "8     NaN  NaN                  NaN  NaN    NaN   NaN      NaN    NaN\n",
              "9     9.0   A9  ANAMALAI UNIVERSITY  NaN  98.70  91.0      2.0   76.0\n",
              "10   10.0   AD               fogjof  NaN  56.00   9.0     78.0    2.0\n",
              "11   11.0  A10                 IITM  NaN  94.00  77.6      1.0   75.0\n",
              "12   12.0  A11                 IITK  NaN  88.20  75.9      2.0   72.0\n",
              "13   13.0  A12                  NaN  NaN  78.90  84.9      3.0   83.0\n",
              "14   14.0  A13                  SRM  NaN  86.90  97.0      4.0   92.0"
            ]
          },
          "metadata": {},
          "execution_count": 12
        }
      ]
    },
    {
      "cell_type": "code",
      "source": [
        "df.duplicated()"
      ],
      "metadata": {
        "colab": {
          "base_uri": "https://localhost:8080/"
        },
        "id": "BtSbJWD5bmZ2",
        "outputId": "60ed1520-e6d1-4f80-9556-9bbe04afc741"
      },
      "execution_count": null,
      "outputs": [
        {
          "output_type": "execute_result",
          "data": {
            "text/plain": [
              "0     False\n",
              "1     False\n",
              "2     False\n",
              "3     False\n",
              "4     False\n",
              "5     False\n",
              "6     False\n",
              "7     False\n",
              "8     False\n",
              "9     False\n",
              "10    False\n",
              "11    False\n",
              "12    False\n",
              "13    False\n",
              "14    False\n",
              "dtype: bool"
            ]
          },
          "metadata": {},
          "execution_count": 13
        }
      ]
    },
    {
      "cell_type": "code",
      "source": [
        "df.isna()"
      ],
      "metadata": {
        "colab": {
          "base_uri": "https://localhost:8080/",
          "height": 520
        },
        "id": "2mvxW3Ytbqj8",
        "outputId": "fd25d4a8-33be-4e5b-a8d2-7d99eff3b490"
      },
      "execution_count": null,
      "outputs": [
        {
          "output_type": "execute_result",
          "data": {
            "text/html": [
              "\n",
              "  <div id=\"df-dc664219-ab21-4ba3-9c59-d969f8ea3fc0\">\n",
              "    <div class=\"colab-df-container\">\n",
              "      <div>\n",
              "<style scoped>\n",
              "    .dataframe tbody tr th:only-of-type {\n",
              "        vertical-align: middle;\n",
              "    }\n",
              "\n",
              "    .dataframe tbody tr th {\n",
              "        vertical-align: top;\n",
              "    }\n",
              "\n",
              "    .dataframe thead th {\n",
              "        text-align: right;\n",
              "    }\n",
              "</style>\n",
              "<table border=\"1\" class=\"dataframe\">\n",
              "  <thead>\n",
              "    <tr style=\"text-align: right;\">\n",
              "      <th></th>\n",
              "      <th>sl No</th>\n",
              "      <th>name</th>\n",
              "      <th>college</th>\n",
              "      <th>age</th>\n",
              "      <th>hsc</th>\n",
              "      <th>SSLC</th>\n",
              "      <th>arrears</th>\n",
              "      <th>cmark</th>\n",
              "    </tr>\n",
              "  </thead>\n",
              "  <tbody>\n",
              "    <tr>\n",
              "      <th>0</th>\n",
              "      <td>False</td>\n",
              "      <td>False</td>\n",
              "      <td>False</td>\n",
              "      <td>True</td>\n",
              "      <td>False</td>\n",
              "      <td>False</td>\n",
              "      <td>False</td>\n",
              "      <td>False</td>\n",
              "    </tr>\n",
              "    <tr>\n",
              "      <th>1</th>\n",
              "      <td>False</td>\n",
              "      <td>False</td>\n",
              "      <td>False</td>\n",
              "      <td>True</td>\n",
              "      <td>False</td>\n",
              "      <td>False</td>\n",
              "      <td>True</td>\n",
              "      <td>False</td>\n",
              "    </tr>\n",
              "    <tr>\n",
              "      <th>2</th>\n",
              "      <td>False</td>\n",
              "      <td>False</td>\n",
              "      <td>False</td>\n",
              "      <td>True</td>\n",
              "      <td>False</td>\n",
              "      <td>False</td>\n",
              "      <td>False</td>\n",
              "      <td>False</td>\n",
              "    </tr>\n",
              "    <tr>\n",
              "      <th>3</th>\n",
              "      <td>False</td>\n",
              "      <td>False</td>\n",
              "      <td>False</td>\n",
              "      <td>True</td>\n",
              "      <td>False</td>\n",
              "      <td>False</td>\n",
              "      <td>False</td>\n",
              "      <td>False</td>\n",
              "    </tr>\n",
              "    <tr>\n",
              "      <th>4</th>\n",
              "      <td>False</td>\n",
              "      <td>False</td>\n",
              "      <td>True</td>\n",
              "      <td>True</td>\n",
              "      <td>False</td>\n",
              "      <td>False</td>\n",
              "      <td>False</td>\n",
              "      <td>False</td>\n",
              "    </tr>\n",
              "    <tr>\n",
              "      <th>5</th>\n",
              "      <td>False</td>\n",
              "      <td>False</td>\n",
              "      <td>False</td>\n",
              "      <td>True</td>\n",
              "      <td>True</td>\n",
              "      <td>False</td>\n",
              "      <td>False</td>\n",
              "      <td>False</td>\n",
              "    </tr>\n",
              "    <tr>\n",
              "      <th>6</th>\n",
              "      <td>False</td>\n",
              "      <td>False</td>\n",
              "      <td>False</td>\n",
              "      <td>True</td>\n",
              "      <td>False</td>\n",
              "      <td>True</td>\n",
              "      <td>False</td>\n",
              "      <td>False</td>\n",
              "    </tr>\n",
              "    <tr>\n",
              "      <th>7</th>\n",
              "      <td>False</td>\n",
              "      <td>False</td>\n",
              "      <td>True</td>\n",
              "      <td>True</td>\n",
              "      <td>False</td>\n",
              "      <td>False</td>\n",
              "      <td>False</td>\n",
              "      <td>False</td>\n",
              "    </tr>\n",
              "    <tr>\n",
              "      <th>8</th>\n",
              "      <td>True</td>\n",
              "      <td>True</td>\n",
              "      <td>True</td>\n",
              "      <td>True</td>\n",
              "      <td>True</td>\n",
              "      <td>True</td>\n",
              "      <td>True</td>\n",
              "      <td>True</td>\n",
              "    </tr>\n",
              "    <tr>\n",
              "      <th>9</th>\n",
              "      <td>False</td>\n",
              "      <td>False</td>\n",
              "      <td>False</td>\n",
              "      <td>True</td>\n",
              "      <td>False</td>\n",
              "      <td>False</td>\n",
              "      <td>False</td>\n",
              "      <td>False</td>\n",
              "    </tr>\n",
              "    <tr>\n",
              "      <th>10</th>\n",
              "      <td>False</td>\n",
              "      <td>False</td>\n",
              "      <td>False</td>\n",
              "      <td>True</td>\n",
              "      <td>False</td>\n",
              "      <td>False</td>\n",
              "      <td>False</td>\n",
              "      <td>False</td>\n",
              "    </tr>\n",
              "    <tr>\n",
              "      <th>11</th>\n",
              "      <td>False</td>\n",
              "      <td>False</td>\n",
              "      <td>False</td>\n",
              "      <td>True</td>\n",
              "      <td>False</td>\n",
              "      <td>False</td>\n",
              "      <td>False</td>\n",
              "      <td>False</td>\n",
              "    </tr>\n",
              "    <tr>\n",
              "      <th>12</th>\n",
              "      <td>False</td>\n",
              "      <td>False</td>\n",
              "      <td>False</td>\n",
              "      <td>True</td>\n",
              "      <td>False</td>\n",
              "      <td>False</td>\n",
              "      <td>False</td>\n",
              "      <td>False</td>\n",
              "    </tr>\n",
              "    <tr>\n",
              "      <th>13</th>\n",
              "      <td>False</td>\n",
              "      <td>False</td>\n",
              "      <td>True</td>\n",
              "      <td>True</td>\n",
              "      <td>False</td>\n",
              "      <td>False</td>\n",
              "      <td>False</td>\n",
              "      <td>False</td>\n",
              "    </tr>\n",
              "    <tr>\n",
              "      <th>14</th>\n",
              "      <td>False</td>\n",
              "      <td>False</td>\n",
              "      <td>False</td>\n",
              "      <td>True</td>\n",
              "      <td>False</td>\n",
              "      <td>False</td>\n",
              "      <td>False</td>\n",
              "      <td>False</td>\n",
              "    </tr>\n",
              "  </tbody>\n",
              "</table>\n",
              "</div>\n",
              "      <button class=\"colab-df-convert\" onclick=\"convertToInteractive('df-dc664219-ab21-4ba3-9c59-d969f8ea3fc0')\"\n",
              "              title=\"Convert this dataframe to an interactive table.\"\n",
              "              style=\"display:none;\">\n",
              "        \n",
              "  <svg xmlns=\"http://www.w3.org/2000/svg\" height=\"24px\"viewBox=\"0 0 24 24\"\n",
              "       width=\"24px\">\n",
              "    <path d=\"M0 0h24v24H0V0z\" fill=\"none\"/>\n",
              "    <path d=\"M18.56 5.44l.94 2.06.94-2.06 2.06-.94-2.06-.94-.94-2.06-.94 2.06-2.06.94zm-11 1L8.5 8.5l.94-2.06 2.06-.94-2.06-.94L8.5 2.5l-.94 2.06-2.06.94zm10 10l.94 2.06.94-2.06 2.06-.94-2.06-.94-.94-2.06-.94 2.06-2.06.94z\"/><path d=\"M17.41 7.96l-1.37-1.37c-.4-.4-.92-.59-1.43-.59-.52 0-1.04.2-1.43.59L10.3 9.45l-7.72 7.72c-.78.78-.78 2.05 0 2.83L4 21.41c.39.39.9.59 1.41.59.51 0 1.02-.2 1.41-.59l7.78-7.78 2.81-2.81c.8-.78.8-2.07 0-2.86zM5.41 20L4 18.59l7.72-7.72 1.47 1.35L5.41 20z\"/>\n",
              "  </svg>\n",
              "      </button>\n",
              "      \n",
              "  <style>\n",
              "    .colab-df-container {\n",
              "      display:flex;\n",
              "      flex-wrap:wrap;\n",
              "      gap: 12px;\n",
              "    }\n",
              "\n",
              "    .colab-df-convert {\n",
              "      background-color: #E8F0FE;\n",
              "      border: none;\n",
              "      border-radius: 50%;\n",
              "      cursor: pointer;\n",
              "      display: none;\n",
              "      fill: #1967D2;\n",
              "      height: 32px;\n",
              "      padding: 0 0 0 0;\n",
              "      width: 32px;\n",
              "    }\n",
              "\n",
              "    .colab-df-convert:hover {\n",
              "      background-color: #E2EBFA;\n",
              "      box-shadow: 0px 1px 2px rgba(60, 64, 67, 0.3), 0px 1px 3px 1px rgba(60, 64, 67, 0.15);\n",
              "      fill: #174EA6;\n",
              "    }\n",
              "\n",
              "    [theme=dark] .colab-df-convert {\n",
              "      background-color: #3B4455;\n",
              "      fill: #D2E3FC;\n",
              "    }\n",
              "\n",
              "    [theme=dark] .colab-df-convert:hover {\n",
              "      background-color: #434B5C;\n",
              "      box-shadow: 0px 1px 3px 1px rgba(0, 0, 0, 0.15);\n",
              "      filter: drop-shadow(0px 1px 2px rgba(0, 0, 0, 0.3));\n",
              "      fill: #FFFFFF;\n",
              "    }\n",
              "  </style>\n",
              "\n",
              "      <script>\n",
              "        const buttonEl =\n",
              "          document.querySelector('#df-dc664219-ab21-4ba3-9c59-d969f8ea3fc0 button.colab-df-convert');\n",
              "        buttonEl.style.display =\n",
              "          google.colab.kernel.accessAllowed ? 'block' : 'none';\n",
              "\n",
              "        async function convertToInteractive(key) {\n",
              "          const element = document.querySelector('#df-dc664219-ab21-4ba3-9c59-d969f8ea3fc0');\n",
              "          const dataTable =\n",
              "            await google.colab.kernel.invokeFunction('convertToInteractive',\n",
              "                                                     [key], {});\n",
              "          if (!dataTable) return;\n",
              "\n",
              "          const docLinkHtml = 'Like what you see? Visit the ' +\n",
              "            '<a target=\"_blank\" href=https://colab.research.google.com/notebooks/data_table.ipynb>data table notebook</a>'\n",
              "            + ' to learn more about interactive tables.';\n",
              "          element.innerHTML = '';\n",
              "          dataTable['output_type'] = 'display_data';\n",
              "          await google.colab.output.renderOutput(dataTable, element);\n",
              "          const docLink = document.createElement('div');\n",
              "          docLink.innerHTML = docLinkHtml;\n",
              "          element.appendChild(docLink);\n",
              "        }\n",
              "      </script>\n",
              "    </div>\n",
              "  </div>\n",
              "  "
            ],
            "text/plain": [
              "    sl No   name  college   age    hsc   SSLC  arrears  cmark\n",
              "0   False  False    False  True  False  False    False  False\n",
              "1   False  False    False  True  False  False     True  False\n",
              "2   False  False    False  True  False  False    False  False\n",
              "3   False  False    False  True  False  False    False  False\n",
              "4   False  False     True  True  False  False    False  False\n",
              "5   False  False    False  True   True  False    False  False\n",
              "6   False  False    False  True  False   True    False  False\n",
              "7   False  False     True  True  False  False    False  False\n",
              "8    True   True     True  True   True   True     True   True\n",
              "9   False  False    False  True  False  False    False  False\n",
              "10  False  False    False  True  False  False    False  False\n",
              "11  False  False    False  True  False  False    False  False\n",
              "12  False  False    False  True  False  False    False  False\n",
              "13  False  False     True  True  False  False    False  False\n",
              "14  False  False    False  True  False  False    False  False"
            ]
          },
          "metadata": {},
          "execution_count": 14
        }
      ]
    },
    {
      "cell_type": "code",
      "source": [
        "!pip install pyspark"
      ],
      "metadata": {
        "colab": {
          "base_uri": "https://localhost:8080/"
        },
        "id": "B0Dypz74hYkG",
        "outputId": "38b0e64a-099c-45e6-8a16-ff51a808d247"
      },
      "execution_count": 1,
      "outputs": [
        {
          "output_type": "stream",
          "name": "stdout",
          "text": [
            "Collecting pyspark\n",
            "  Downloading pyspark-3.2.1.tar.gz (281.4 MB)\n",
            "\u001b[K     |████████████████████████████████| 281.4 MB 33 kB/s \n",
            "\u001b[?25hCollecting py4j==0.10.9.3\n",
            "  Downloading py4j-0.10.9.3-py2.py3-none-any.whl (198 kB)\n",
            "\u001b[K     |████████████████████████████████| 198 kB 45.7 MB/s \n",
            "\u001b[?25hBuilding wheels for collected packages: pyspark\n",
            "  Building wheel for pyspark (setup.py) ... \u001b[?25l\u001b[?25hdone\n",
            "  Created wheel for pyspark: filename=pyspark-3.2.1-py2.py3-none-any.whl size=281853642 sha256=0b985e2ae1db11ff2c29225f73ec44e8cafa56c5a16740c992bee07cdc05715c\n",
            "  Stored in directory: /root/.cache/pip/wheels/9f/f5/07/7cd8017084dce4e93e84e92efd1e1d5334db05f2e83bcef74f\n",
            "Successfully built pyspark\n",
            "Installing collected packages: py4j, pyspark\n",
            "Successfully installed py4j-0.10.9.3 pyspark-3.2.1\n"
          ]
        }
      ]
    },
    {
      "cell_type": "code",
      "source": [
        "import pyspark"
      ],
      "metadata": {
        "id": "ijR1UTlqkxH_"
      },
      "execution_count": 2,
      "outputs": []
    },
    {
      "cell_type": "code",
      "source": [
        "dir(pyspark)"
      ],
      "metadata": {
        "colab": {
          "base_uri": "https://localhost:8080/"
        },
        "id": "plpmPqMJlEUv",
        "outputId": "c3133cf8-a17a-4b2f-8306-32ca2c0c9aa3"
      },
      "execution_count": 3,
      "outputs": [
        {
          "output_type": "execute_result",
          "data": {
            "text/plain": [
              "['Accumulator',\n",
              " 'AccumulatorParam',\n",
              " 'BarrierTaskContext',\n",
              " 'BarrierTaskInfo',\n",
              " 'BasicProfiler',\n",
              " 'Broadcast',\n",
              " 'HiveContext',\n",
              " 'InheritableThread',\n",
              " 'MarshalSerializer',\n",
              " 'PickleSerializer',\n",
              " 'Profiler',\n",
              " 'RDD',\n",
              " 'RDDBarrier',\n",
              " 'Row',\n",
              " 'SQLContext',\n",
              " 'SparkConf',\n",
              " 'SparkContext',\n",
              " 'SparkFiles',\n",
              " 'SparkJobInfo',\n",
              " 'SparkStageInfo',\n",
              " 'StatusTracker',\n",
              " 'StorageLevel',\n",
              " 'TaskContext',\n",
              " '_NoValue',\n",
              " '__all__',\n",
              " '__builtins__',\n",
              " '__cached__',\n",
              " '__doc__',\n",
              " '__file__',\n",
              " '__loader__',\n",
              " '__name__',\n",
              " '__package__',\n",
              " '__path__',\n",
              " '__spec__',\n",
              " '__version__',\n",
              " '_globals',\n",
              " 'accumulators',\n",
              " 'broadcast',\n",
              " 'cloudpickle',\n",
              " 'conf',\n",
              " 'context',\n",
              " 'copy_func',\n",
              " 'files',\n",
              " 'find_spark_home',\n",
              " 'inheritable_thread_target',\n",
              " 'java_gateway',\n",
              " 'join',\n",
              " 'keyword_only',\n",
              " 'profiler',\n",
              " 'rdd',\n",
              " 'rddsampler',\n",
              " 'resource',\n",
              " 'resultiterable',\n",
              " 'serializers',\n",
              " 'shuffle',\n",
              " 'since',\n",
              " 'sql',\n",
              " 'statcounter',\n",
              " 'status',\n",
              " 'storagelevel',\n",
              " 'taskcontext',\n",
              " 'traceback_utils',\n",
              " 'types',\n",
              " 'util',\n",
              " 'version',\n",
              " 'wraps']"
            ]
          },
          "metadata": {},
          "execution_count": 3
        }
      ]
    },
    {
      "cell_type": "code",
      "source": [
        "from pyspark.sql import SparkSession"
      ],
      "metadata": {
        "id": "_x6_oGqBm71M"
      },
      "execution_count": 4,
      "outputs": []
    },
    {
      "cell_type": "code",
      "source": [
        "spark = SparkSession.builder.appName('sample').getOrCreate()"
      ],
      "metadata": {
        "id": "MlYr6lGLnoJY"
      },
      "execution_count": 5,
      "outputs": []
    },
    {
      "cell_type": "code",
      "source": [
        "data1 = [(\"arun\",\"kumar\",'s',56,'M',45000),(\"mahesh\",\"\",'sasi',48,'M',12000),(\"bala\",\"\",'s',89,'M',5000)]"
      ],
      "metadata": {
        "id": "4pAi-AOXnzNq"
      },
      "execution_count": 6,
      "outputs": []
    },
    {
      "cell_type": "code",
      "source": [
        "from pyspark.sql.types import StructField, StructType, StringType, IntegerType"
      ],
      "metadata": {
        "id": "KuVmuBgrpGJ8"
      },
      "execution_count": 7,
      "outputs": []
    },
    {
      "cell_type": "code",
      "source": [
        "schema1= StructType([\n",
        "                    StructField(\"firstname\",StringType(),True),\n",
        "                    StructField(\"middlename\",StringType(),True),\n",
        "                    StructField(\"lastname\",StringType(),True),\n",
        "                    StructField(\"ID\",IntegerType(),True),\n",
        "                    StructField(\"gender\",StringType(),True),\n",
        "                    StructField(\"salary\",IntegerType(),True)\n",
        "])"
      ],
      "metadata": {
        "id": "WoEqAP18pS59"
      },
      "execution_count": 8,
      "outputs": []
    },
    {
      "cell_type": "code",
      "source": [
        "dx = spark.createDataFrame(data=data1,schema=schema1)"
      ],
      "metadata": {
        "id": "Fxlnr4fwqOGK"
      },
      "execution_count": 9,
      "outputs": []
    },
    {
      "cell_type": "code",
      "source": [
        "dx.show()"
      ],
      "metadata": {
        "colab": {
          "base_uri": "https://localhost:8080/"
        },
        "id": "HQO4Ou7NqgPu",
        "outputId": "c12b2d61-cdc6-4fa8-fd47-89abd8865248"
      },
      "execution_count": 10,
      "outputs": [
        {
          "output_type": "stream",
          "name": "stdout",
          "text": [
            "+---------+----------+--------+---+------+------+\n",
            "|firstname|middlename|lastname| ID|gender|salary|\n",
            "+---------+----------+--------+---+------+------+\n",
            "|     arun|     kumar|       s| 56|     M| 45000|\n",
            "|   mahesh|          |    sasi| 48|     M| 12000|\n",
            "|     bala|          |       s| 89|     M|  5000|\n",
            "+---------+----------+--------+---+------+------+\n",
            "\n"
          ]
        }
      ]
    },
    {
      "cell_type": "code",
      "source": [
        "dx.printSchema()"
      ],
      "metadata": {
        "colab": {
          "base_uri": "https://localhost:8080/"
        },
        "id": "Kt5DAh7OqsAi",
        "outputId": "2b34eb69-b3b1-4fe2-8704-f7e9e0e38398"
      },
      "execution_count": 11,
      "outputs": [
        {
          "output_type": "stream",
          "name": "stdout",
          "text": [
            "root\n",
            " |-- firstname: string (nullable = true)\n",
            " |-- middlename: string (nullable = true)\n",
            " |-- lastname: string (nullable = true)\n",
            " |-- ID: integer (nullable = true)\n",
            " |-- gender: string (nullable = true)\n",
            " |-- salary: integer (nullable = true)\n",
            "\n"
          ]
        }
      ]
    },
    {
      "cell_type": "code",
      "source": [
        "dx_pd= dx.toPandas()\n",
        "dx_pd"
      ],
      "metadata": {
        "colab": {
          "base_uri": "https://localhost:8080/",
          "height": 143
        },
        "id": "7i-ruhmYq67x",
        "outputId": "ac87504e-ed4b-41d0-8a09-dc0c86376e9b"
      },
      "execution_count": 12,
      "outputs": [
        {
          "output_type": "execute_result",
          "data": {
            "text/html": [
              "\n",
              "  <div id=\"df-b88ea80b-cf3c-4326-8945-82b027988a62\">\n",
              "    <div class=\"colab-df-container\">\n",
              "      <div>\n",
              "<style scoped>\n",
              "    .dataframe tbody tr th:only-of-type {\n",
              "        vertical-align: middle;\n",
              "    }\n",
              "\n",
              "    .dataframe tbody tr th {\n",
              "        vertical-align: top;\n",
              "    }\n",
              "\n",
              "    .dataframe thead th {\n",
              "        text-align: right;\n",
              "    }\n",
              "</style>\n",
              "<table border=\"1\" class=\"dataframe\">\n",
              "  <thead>\n",
              "    <tr style=\"text-align: right;\">\n",
              "      <th></th>\n",
              "      <th>firstname</th>\n",
              "      <th>middlename</th>\n",
              "      <th>lastname</th>\n",
              "      <th>ID</th>\n",
              "      <th>gender</th>\n",
              "      <th>salary</th>\n",
              "    </tr>\n",
              "  </thead>\n",
              "  <tbody>\n",
              "    <tr>\n",
              "      <th>0</th>\n",
              "      <td>arun</td>\n",
              "      <td>kumar</td>\n",
              "      <td>s</td>\n",
              "      <td>56</td>\n",
              "      <td>M</td>\n",
              "      <td>45000</td>\n",
              "    </tr>\n",
              "    <tr>\n",
              "      <th>1</th>\n",
              "      <td>mahesh</td>\n",
              "      <td></td>\n",
              "      <td>sasi</td>\n",
              "      <td>48</td>\n",
              "      <td>M</td>\n",
              "      <td>12000</td>\n",
              "    </tr>\n",
              "    <tr>\n",
              "      <th>2</th>\n",
              "      <td>bala</td>\n",
              "      <td></td>\n",
              "      <td>s</td>\n",
              "      <td>89</td>\n",
              "      <td>M</td>\n",
              "      <td>5000</td>\n",
              "    </tr>\n",
              "  </tbody>\n",
              "</table>\n",
              "</div>\n",
              "      <button class=\"colab-df-convert\" onclick=\"convertToInteractive('df-b88ea80b-cf3c-4326-8945-82b027988a62')\"\n",
              "              title=\"Convert this dataframe to an interactive table.\"\n",
              "              style=\"display:none;\">\n",
              "        \n",
              "  <svg xmlns=\"http://www.w3.org/2000/svg\" height=\"24px\"viewBox=\"0 0 24 24\"\n",
              "       width=\"24px\">\n",
              "    <path d=\"M0 0h24v24H0V0z\" fill=\"none\"/>\n",
              "    <path d=\"M18.56 5.44l.94 2.06.94-2.06 2.06-.94-2.06-.94-.94-2.06-.94 2.06-2.06.94zm-11 1L8.5 8.5l.94-2.06 2.06-.94-2.06-.94L8.5 2.5l-.94 2.06-2.06.94zm10 10l.94 2.06.94-2.06 2.06-.94-2.06-.94-.94-2.06-.94 2.06-2.06.94z\"/><path d=\"M17.41 7.96l-1.37-1.37c-.4-.4-.92-.59-1.43-.59-.52 0-1.04.2-1.43.59L10.3 9.45l-7.72 7.72c-.78.78-.78 2.05 0 2.83L4 21.41c.39.39.9.59 1.41.59.51 0 1.02-.2 1.41-.59l7.78-7.78 2.81-2.81c.8-.78.8-2.07 0-2.86zM5.41 20L4 18.59l7.72-7.72 1.47 1.35L5.41 20z\"/>\n",
              "  </svg>\n",
              "      </button>\n",
              "      \n",
              "  <style>\n",
              "    .colab-df-container {\n",
              "      display:flex;\n",
              "      flex-wrap:wrap;\n",
              "      gap: 12px;\n",
              "    }\n",
              "\n",
              "    .colab-df-convert {\n",
              "      background-color: #E8F0FE;\n",
              "      border: none;\n",
              "      border-radius: 50%;\n",
              "      cursor: pointer;\n",
              "      display: none;\n",
              "      fill: #1967D2;\n",
              "      height: 32px;\n",
              "      padding: 0 0 0 0;\n",
              "      width: 32px;\n",
              "    }\n",
              "\n",
              "    .colab-df-convert:hover {\n",
              "      background-color: #E2EBFA;\n",
              "      box-shadow: 0px 1px 2px rgba(60, 64, 67, 0.3), 0px 1px 3px 1px rgba(60, 64, 67, 0.15);\n",
              "      fill: #174EA6;\n",
              "    }\n",
              "\n",
              "    [theme=dark] .colab-df-convert {\n",
              "      background-color: #3B4455;\n",
              "      fill: #D2E3FC;\n",
              "    }\n",
              "\n",
              "    [theme=dark] .colab-df-convert:hover {\n",
              "      background-color: #434B5C;\n",
              "      box-shadow: 0px 1px 3px 1px rgba(0, 0, 0, 0.15);\n",
              "      filter: drop-shadow(0px 1px 2px rgba(0, 0, 0, 0.3));\n",
              "      fill: #FFFFFF;\n",
              "    }\n",
              "  </style>\n",
              "\n",
              "      <script>\n",
              "        const buttonEl =\n",
              "          document.querySelector('#df-b88ea80b-cf3c-4326-8945-82b027988a62 button.colab-df-convert');\n",
              "        buttonEl.style.display =\n",
              "          google.colab.kernel.accessAllowed ? 'block' : 'none';\n",
              "\n",
              "        async function convertToInteractive(key) {\n",
              "          const element = document.querySelector('#df-b88ea80b-cf3c-4326-8945-82b027988a62');\n",
              "          const dataTable =\n",
              "            await google.colab.kernel.invokeFunction('convertToInteractive',\n",
              "                                                     [key], {});\n",
              "          if (!dataTable) return;\n",
              "\n",
              "          const docLinkHtml = 'Like what you see? Visit the ' +\n",
              "            '<a target=\"_blank\" href=https://colab.research.google.com/notebooks/data_table.ipynb>data table notebook</a>'\n",
              "            + ' to learn more about interactive tables.';\n",
              "          element.innerHTML = '';\n",
              "          dataTable['output_type'] = 'display_data';\n",
              "          await google.colab.output.renderOutput(dataTable, element);\n",
              "          const docLink = document.createElement('div');\n",
              "          docLink.innerHTML = docLinkHtml;\n",
              "          element.appendChild(docLink);\n",
              "        }\n",
              "      </script>\n",
              "    </div>\n",
              "  </div>\n",
              "  "
            ],
            "text/plain": [
              "  firstname middlename lastname  ID gender  salary\n",
              "0      arun      kumar        s  56      M   45000\n",
              "1    mahesh                sasi  48      M   12000\n",
              "2      bala                   s  89      M    5000"
            ]
          },
          "metadata": {},
          "execution_count": 12
        }
      ]
    },
    {
      "cell_type": "code",
      "source": [
        "col =[\"fname\",'mname','lname','id','gender','salary']"
      ],
      "metadata": {
        "id": "FoYugofDrEhZ"
      },
      "execution_count": 13,
      "outputs": []
    },
    {
      "cell_type": "code",
      "source": [
        "dy = spark.createDataFrame(data=data1,schema=col)\n",
        "dy.printSchema()\n",
        "dy.show()"
      ],
      "metadata": {
        "colab": {
          "base_uri": "https://localhost:8080/"
        },
        "id": "NfmKOOkhrxmR",
        "outputId": "226dcbb1-636d-4429-e47e-2063d093a13f"
      },
      "execution_count": 14,
      "outputs": [
        {
          "output_type": "stream",
          "name": "stdout",
          "text": [
            "root\n",
            " |-- fname: string (nullable = true)\n",
            " |-- mname: string (nullable = true)\n",
            " |-- lname: string (nullable = true)\n",
            " |-- id: long (nullable = true)\n",
            " |-- gender: string (nullable = true)\n",
            " |-- salary: long (nullable = true)\n",
            "\n",
            "+------+-----+-----+---+------+------+\n",
            "| fname|mname|lname| id|gender|salary|\n",
            "+------+-----+-----+---+------+------+\n",
            "|  arun|kumar|    s| 56|     M| 45000|\n",
            "|mahesh|     | sasi| 48|     M| 12000|\n",
            "|  bala|     |    s| 89|     M|  5000|\n",
            "+------+-----+-----+---+------+------+\n",
            "\n"
          ]
        }
      ]
    },
    {
      "cell_type": "code",
      "source": [
        "df = spark.read.format('csv').load('/content/SAMPLE.csv')\n",
        "df.printSchema()\n",
        "df.show()"
      ],
      "metadata": {
        "colab": {
          "base_uri": "https://localhost:8080/",
          "height": 346
        },
        "id": "Pc-L65mDsDsg",
        "outputId": "c1a4233b-ef48-4c26-c261-fade4423baf1"
      },
      "execution_count": 15,
      "outputs": [
        {
          "output_type": "error",
          "ename": "AnalysisException",
          "evalue": "ignored",
          "traceback": [
            "\u001b[0;31m---------------------------------------------------------------------------\u001b[0m",
            "\u001b[0;31mAnalysisException\u001b[0m                         Traceback (most recent call last)",
            "\u001b[0;32m<ipython-input-15-f408006177bb>\u001b[0m in \u001b[0;36m<module>\u001b[0;34m()\u001b[0m\n\u001b[0;32m----> 1\u001b[0;31m \u001b[0mdf\u001b[0m \u001b[0;34m=\u001b[0m \u001b[0mspark\u001b[0m\u001b[0;34m.\u001b[0m\u001b[0mread\u001b[0m\u001b[0;34m.\u001b[0m\u001b[0mformat\u001b[0m\u001b[0;34m(\u001b[0m\u001b[0;34m'csv'\u001b[0m\u001b[0;34m)\u001b[0m\u001b[0;34m.\u001b[0m\u001b[0mload\u001b[0m\u001b[0;34m(\u001b[0m\u001b[0;34m'/content/SAMPLE.csv'\u001b[0m\u001b[0;34m)\u001b[0m\u001b[0;34m\u001b[0m\u001b[0;34m\u001b[0m\u001b[0m\n\u001b[0m\u001b[1;32m      2\u001b[0m \u001b[0mdf\u001b[0m\u001b[0;34m.\u001b[0m\u001b[0mprintSchema\u001b[0m\u001b[0;34m(\u001b[0m\u001b[0;34m)\u001b[0m\u001b[0;34m\u001b[0m\u001b[0;34m\u001b[0m\u001b[0m\n\u001b[1;32m      3\u001b[0m \u001b[0mdf\u001b[0m\u001b[0;34m.\u001b[0m\u001b[0mshow\u001b[0m\u001b[0;34m(\u001b[0m\u001b[0;34m)\u001b[0m\u001b[0;34m\u001b[0m\u001b[0;34m\u001b[0m\u001b[0m\n",
            "\u001b[0;32m/usr/local/lib/python3.7/dist-packages/pyspark/sql/readwriter.py\u001b[0m in \u001b[0;36mload\u001b[0;34m(self, path, format, schema, **options)\u001b[0m\n\u001b[1;32m    156\u001b[0m         \u001b[0mself\u001b[0m\u001b[0;34m.\u001b[0m\u001b[0moptions\u001b[0m\u001b[0;34m(\u001b[0m\u001b[0;34m**\u001b[0m\u001b[0moptions\u001b[0m\u001b[0;34m)\u001b[0m\u001b[0;34m\u001b[0m\u001b[0;34m\u001b[0m\u001b[0m\n\u001b[1;32m    157\u001b[0m         \u001b[0;32mif\u001b[0m \u001b[0misinstance\u001b[0m\u001b[0;34m(\u001b[0m\u001b[0mpath\u001b[0m\u001b[0;34m,\u001b[0m \u001b[0mstr\u001b[0m\u001b[0;34m)\u001b[0m\u001b[0;34m:\u001b[0m\u001b[0;34m\u001b[0m\u001b[0;34m\u001b[0m\u001b[0m\n\u001b[0;32m--> 158\u001b[0;31m             \u001b[0;32mreturn\u001b[0m \u001b[0mself\u001b[0m\u001b[0;34m.\u001b[0m\u001b[0m_df\u001b[0m\u001b[0;34m(\u001b[0m\u001b[0mself\u001b[0m\u001b[0;34m.\u001b[0m\u001b[0m_jreader\u001b[0m\u001b[0;34m.\u001b[0m\u001b[0mload\u001b[0m\u001b[0;34m(\u001b[0m\u001b[0mpath\u001b[0m\u001b[0;34m)\u001b[0m\u001b[0;34m)\u001b[0m\u001b[0;34m\u001b[0m\u001b[0;34m\u001b[0m\u001b[0m\n\u001b[0m\u001b[1;32m    159\u001b[0m         \u001b[0;32melif\u001b[0m \u001b[0mpath\u001b[0m \u001b[0;32mis\u001b[0m \u001b[0;32mnot\u001b[0m \u001b[0;32mNone\u001b[0m\u001b[0;34m:\u001b[0m\u001b[0;34m\u001b[0m\u001b[0;34m\u001b[0m\u001b[0m\n\u001b[1;32m    160\u001b[0m             \u001b[0;32mif\u001b[0m \u001b[0mtype\u001b[0m\u001b[0;34m(\u001b[0m\u001b[0mpath\u001b[0m\u001b[0;34m)\u001b[0m \u001b[0;34m!=\u001b[0m \u001b[0mlist\u001b[0m\u001b[0;34m:\u001b[0m\u001b[0;34m\u001b[0m\u001b[0;34m\u001b[0m\u001b[0m\n",
            "\u001b[0;32m/usr/local/lib/python3.7/dist-packages/py4j/java_gateway.py\u001b[0m in \u001b[0;36m__call__\u001b[0;34m(self, *args)\u001b[0m\n\u001b[1;32m   1320\u001b[0m         \u001b[0manswer\u001b[0m \u001b[0;34m=\u001b[0m \u001b[0mself\u001b[0m\u001b[0;34m.\u001b[0m\u001b[0mgateway_client\u001b[0m\u001b[0;34m.\u001b[0m\u001b[0msend_command\u001b[0m\u001b[0;34m(\u001b[0m\u001b[0mcommand\u001b[0m\u001b[0;34m)\u001b[0m\u001b[0;34m\u001b[0m\u001b[0;34m\u001b[0m\u001b[0m\n\u001b[1;32m   1321\u001b[0m         return_value = get_return_value(\n\u001b[0;32m-> 1322\u001b[0;31m             answer, self.gateway_client, self.target_id, self.name)\n\u001b[0m\u001b[1;32m   1323\u001b[0m \u001b[0;34m\u001b[0m\u001b[0m\n\u001b[1;32m   1324\u001b[0m         \u001b[0;32mfor\u001b[0m \u001b[0mtemp_arg\u001b[0m \u001b[0;32min\u001b[0m \u001b[0mtemp_args\u001b[0m\u001b[0;34m:\u001b[0m\u001b[0;34m\u001b[0m\u001b[0;34m\u001b[0m\u001b[0m\n",
            "\u001b[0;32m/usr/local/lib/python3.7/dist-packages/pyspark/sql/utils.py\u001b[0m in \u001b[0;36mdeco\u001b[0;34m(*a, **kw)\u001b[0m\n\u001b[1;32m    115\u001b[0m                 \u001b[0;31m# Hide where the exception came from that shows a non-Pythonic\u001b[0m\u001b[0;34m\u001b[0m\u001b[0;34m\u001b[0m\u001b[0;34m\u001b[0m\u001b[0m\n\u001b[1;32m    116\u001b[0m                 \u001b[0;31m# JVM exception message.\u001b[0m\u001b[0;34m\u001b[0m\u001b[0;34m\u001b[0m\u001b[0;34m\u001b[0m\u001b[0m\n\u001b[0;32m--> 117\u001b[0;31m                 \u001b[0;32mraise\u001b[0m \u001b[0mconverted\u001b[0m \u001b[0;32mfrom\u001b[0m \u001b[0;32mNone\u001b[0m\u001b[0;34m\u001b[0m\u001b[0;34m\u001b[0m\u001b[0m\n\u001b[0m\u001b[1;32m    118\u001b[0m             \u001b[0;32melse\u001b[0m\u001b[0;34m:\u001b[0m\u001b[0;34m\u001b[0m\u001b[0;34m\u001b[0m\u001b[0m\n\u001b[1;32m    119\u001b[0m                 \u001b[0;32mraise\u001b[0m\u001b[0;34m\u001b[0m\u001b[0;34m\u001b[0m\u001b[0m\n",
            "\u001b[0;31mAnalysisException\u001b[0m: Path does not exist: file:/content/SAMPLE.csv"
          ]
        }
      ]
    },
    {
      "cell_type": "code",
      "source": [
        "df1 = spark.read.option(\"header\",True).csv('/content/SAMPLE.csv')\n",
        "df1.printSchema()\n",
        "df1.show()"
      ],
      "metadata": {
        "id": "F9bEXkBHuo2A"
      },
      "execution_count": null,
      "outputs": []
    },
    {
      "cell_type": "code",
      "source": [
        "df1.write.option('header',True).csv(\"/content/sasa\")"
      ],
      "metadata": {
        "id": "dCodeeVYv4Fm"
      },
      "execution_count": null,
      "outputs": []
    },
    {
      "cell_type": "code",
      "source": [
        "data2 = [(\"arun\",\"Mech\",45000),(\"mahesh\",\"Aero\",12000),(\"bala\",\"Cse\",70000),(\"mano\",\"Mech\",49000),(\"abishek\",\"Aero\",65000),(\"deepak\",\"ece\",35000),(\"rohan\",\"ece\",5000)]\n",
        "col=[\"name\",\"dept\",\"salary\"]\n",
        "df2= spark.createDataFrame(data= data2,schema=col)\n",
        "df2.printSchema()\n",
        "df2.show(truncate=False) "
      ],
      "metadata": {
        "id": "HrEx7G23wCLq",
        "colab": {
          "base_uri": "https://localhost:8080/"
        },
        "outputId": "9ce1e04a-3cdf-4b51-fd2b-41ca73a8e8c8"
      },
      "execution_count": 38,
      "outputs": [
        {
          "output_type": "stream",
          "name": "stdout",
          "text": [
            "root\n",
            " |-- name: string (nullable = true)\n",
            " |-- dept: string (nullable = true)\n",
            " |-- salary: long (nullable = true)\n",
            "\n",
            "+-------+----+------+\n",
            "|name   |dept|salary|\n",
            "+-------+----+------+\n",
            "|arun   |Mech|45000 |\n",
            "|mahesh |Aero|12000 |\n",
            "|bala   |Cse |70000 |\n",
            "|mano   |Mech|49000 |\n",
            "|abishek|Aero|65000 |\n",
            "|deepak |ece |35000 |\n",
            "|rohan  |ece |5000  |\n",
            "+-------+----+------+\n",
            "\n"
          ]
        }
      ]
    },
    {
      "cell_type": "code",
      "source": [
        "df2_px=df2.distinct()   #removal of duplication\n",
        "df2_px.show()"
      ],
      "metadata": {
        "colab": {
          "base_uri": "https://localhost:8080/"
        },
        "id": "7Tcu1ADJc7yW",
        "outputId": "f3dfc7e0-af4f-4183-d442-27dc440f84d1"
      },
      "execution_count": 23,
      "outputs": [
        {
          "output_type": "stream",
          "name": "stdout",
          "text": [
            "+-------+----+------+\n",
            "|   name|dept|salary|\n",
            "+-------+----+------+\n",
            "|   bala| Cse|  5000|\n",
            "| mahesh|Aero| 12000|\n",
            "|   arun|Mech| 45000|\n",
            "|   mano| ITE|  5000|\n",
            "|abishek|  IT|  5000|\n",
            "|  rohan| ece|  5000|\n",
            "+-------+----+------+\n",
            "\n"
          ]
        }
      ]
    },
    {
      "cell_type": "code",
      "source": [
        "df2_x = df2.dropDuplicates()\n",
        "df2_x.show()"
      ],
      "metadata": {
        "colab": {
          "base_uri": "https://localhost:8080/"
        },
        "id": "ANoMlkBIehco",
        "outputId": "afad0f6f-8470-4ecd-894a-73bb6abba380"
      },
      "execution_count": 24,
      "outputs": [
        {
          "output_type": "stream",
          "name": "stdout",
          "text": [
            "+-------+----+------+\n",
            "|   name|dept|salary|\n",
            "+-------+----+------+\n",
            "|   bala| Cse|  5000|\n",
            "| mahesh|Aero| 12000|\n",
            "|   arun|Mech| 45000|\n",
            "|   mano| ITE|  5000|\n",
            "|abishek|  IT|  5000|\n",
            "|  rohan| ece|  5000|\n",
            "+-------+----+------+\n",
            "\n"
          ]
        }
      ]
    },
    {
      "cell_type": "code",
      "source": [
        "df2_x = df2.dropDuplicates([\"dept\"])\n",
        "df2_x.show()"
      ],
      "metadata": {
        "colab": {
          "base_uri": "https://localhost:8080/"
        },
        "id": "K1LMREc2e-qu",
        "outputId": "f19edd0f-ab88-4044-b13e-fdc6b95faf7a"
      },
      "execution_count": 27,
      "outputs": [
        {
          "output_type": "stream",
          "name": "stdout",
          "text": [
            "+------+----+------+\n",
            "|  name|dept|salary|\n",
            "+------+----+------+\n",
            "|mahesh|Aero| 12000|\n",
            "|  bala| Cse|  5000|\n",
            "|  arun|Mech| 45000|\n",
            "| rohan| ece|  5000|\n",
            "+------+----+------+\n",
            "\n"
          ]
        }
      ]
    },
    {
      "cell_type": "code",
      "source": [
        "df2_x = df2.dropDuplicates([\"dept\",\"salary\"]) #common duplicates are deleted similar to AND operation\n",
        "df2_x.show()"
      ],
      "metadata": {
        "colab": {
          "base_uri": "https://localhost:8080/"
        },
        "id": "sqQK74cKfgd7",
        "outputId": "1c2cde58-2353-43ad-f037-fea4e491c7b0"
      },
      "execution_count": 28,
      "outputs": [
        {
          "output_type": "stream",
          "name": "stdout",
          "text": [
            "+-------+----+------+\n",
            "|   name|dept|salary|\n",
            "+-------+----+------+\n",
            "|abishek|Aero|  5000|\n",
            "| mahesh|Aero| 12000|\n",
            "|   bala| Cse|  5000|\n",
            "|   mano|Mech|  5000|\n",
            "|   arun|Mech| 45000|\n",
            "|  rohan| ece|  5000|\n",
            "+-------+----+------+\n",
            "\n"
          ]
        }
      ]
    },
    {
      "cell_type": "code",
      "source": [
        "df2.show()"
      ],
      "metadata": {
        "colab": {
          "base_uri": "https://localhost:8080/"
        },
        "id": "AZCzgB_CgBbf",
        "outputId": "551d5484-7511-4350-d913-0fbe94193f24"
      },
      "execution_count": 29,
      "outputs": [
        {
          "output_type": "stream",
          "name": "stdout",
          "text": [
            "+-------+----+------+\n",
            "|   name|dept|salary|\n",
            "+-------+----+------+\n",
            "|   arun|Mech| 45000|\n",
            "| mahesh|Aero| 12000|\n",
            "|   bala| Cse|  5000|\n",
            "|   mano|Mech|  5000|\n",
            "|abishek|Aero|  5000|\n",
            "|  rohan| ece|  5000|\n",
            "|  rohan| ece|  5000|\n",
            "+-------+----+------+\n",
            "\n"
          ]
        }
      ]
    },
    {
      "cell_type": "code",
      "source": [
        "df2_x = df2.dropDuplicates([\"dept\",\"salary\"]) #common duplicates are deleted similar to AND operation\n",
        "                                              # based on the coloumn order the values are sorted\n",
        "df2_x.show()"
      ],
      "metadata": {
        "colab": {
          "base_uri": "https://localhost:8080/"
        },
        "id": "_kfTjNFOgJIM",
        "outputId": "64bc1da0-c015-47be-b199-0efe1db4103b"
      },
      "execution_count": 35,
      "outputs": [
        {
          "output_type": "stream",
          "name": "stdout",
          "text": [
            "+-------+----+------+\n",
            "|   name|dept|salary|\n",
            "+-------+----+------+\n",
            "|abishek|Aero|  5000|\n",
            "| mahesh|Aero| 12000|\n",
            "|   bala| Cse|  5000|\n",
            "|   mano|Mech|  5000|\n",
            "|   arun|Mech| 45000|\n",
            "|  rohan| ece|  5000|\n",
            "+-------+----+------+\n",
            "\n"
          ]
        }
      ]
    },
    {
      "cell_type": "code",
      "source": [
        "df2_x = df2.dropDuplicates([\"salary\",\"dept\"]) #common duplicates are deleted similar to AND operation\n",
        "                                              # based on the coloumn order the values are sorted\n",
        "df2_x.show()"
      ],
      "metadata": {
        "colab": {
          "base_uri": "https://localhost:8080/"
        },
        "id": "9N3THvwFierN",
        "outputId": "8138b384-daed-464e-b9f0-53e9da83c147"
      },
      "execution_count": 36,
      "outputs": [
        {
          "output_type": "stream",
          "name": "stdout",
          "text": [
            "+-------+----+------+\n",
            "|   name|dept|salary|\n",
            "+-------+----+------+\n",
            "|abishek|Aero|  5000|\n",
            "|   bala| Cse|  5000|\n",
            "|   mano|Mech|  5000|\n",
            "|  rohan| ece|  5000|\n",
            "| mahesh|Aero| 12000|\n",
            "|   arun|Mech| 45000|\n",
            "+-------+----+------+\n",
            "\n"
          ]
        }
      ]
    },
    {
      "cell_type": "code",
      "source": [
        "df2.filter(df2.dept=='Mech').show()"
      ],
      "metadata": {
        "colab": {
          "base_uri": "https://localhost:8080/"
        },
        "id": "RuLnuaw6gyUd",
        "outputId": "dd7635af-72f9-48ca-e142-2047408d97b7"
      },
      "execution_count": 45,
      "outputs": [
        {
          "output_type": "stream",
          "name": "stdout",
          "text": [
            "+----+----+------+\n",
            "|name|dept|salary|\n",
            "+----+----+------+\n",
            "|arun|Mech| 45000|\n",
            "|mano|Mech| 49000|\n",
            "+----+----+------+\n",
            "\n"
          ]
        }
      ]
    },
    {
      "cell_type": "code",
      "source": [
        "df2.filter(df2.dept!='Mech').show()"
      ],
      "metadata": {
        "colab": {
          "base_uri": "https://localhost:8080/"
        },
        "id": "_2OR19ichqOx",
        "outputId": "a78eb737-e8da-4606-b5ca-a0e5971ddca8"
      },
      "execution_count": 32,
      "outputs": [
        {
          "output_type": "stream",
          "name": "stdout",
          "text": [
            "+-------+----+------+\n",
            "|   name|dept|salary|\n",
            "+-------+----+------+\n",
            "| mahesh|Aero| 12000|\n",
            "|   bala| Cse|  5000|\n",
            "|abishek|Aero|  5000|\n",
            "|  rohan| ece|  5000|\n",
            "|  rohan| ece|  5000|\n",
            "+-------+----+------+\n",
            "\n"
          ]
        }
      ]
    },
    {
      "cell_type": "code",
      "source": [
        "df2.filter(~(df2.dept=='Mech')).show() # ~ -> NOT EQUAL TO"
      ],
      "metadata": {
        "colab": {
          "base_uri": "https://localhost:8080/"
        },
        "id": "EWyEE7GIhzXw",
        "outputId": "b525a68a-afe7-4244-f7cd-959f61f7dc90"
      },
      "execution_count": 34,
      "outputs": [
        {
          "output_type": "stream",
          "name": "stdout",
          "text": [
            "+-------+----+------+\n",
            "|   name|dept|salary|\n",
            "+-------+----+------+\n",
            "| mahesh|Aero| 12000|\n",
            "|   bala| Cse|  5000|\n",
            "|abishek|Aero|  5000|\n",
            "|  rohan| ece|  5000|\n",
            "|  rohan| ece|  5000|\n",
            "+-------+----+------+\n",
            "\n"
          ]
        }
      ]
    },
    {
      "cell_type": "code",
      "source": [
        "df2.filter(df2.salary>6000).show()"
      ],
      "metadata": {
        "colab": {
          "base_uri": "https://localhost:8080/"
        },
        "id": "i5BpRr0fh4Vi",
        "outputId": "a6d92070-54e6-49e5-a9a3-b521879390ef"
      },
      "execution_count": 37,
      "outputs": [
        {
          "output_type": "stream",
          "name": "stdout",
          "text": [
            "+------+----+------+\n",
            "|  name|dept|salary|\n",
            "+------+----+------+\n",
            "|  arun|Mech| 45000|\n",
            "|mahesh|Aero| 12000|\n",
            "+------+----+------+\n",
            "\n"
          ]
        }
      ]
    },
    {
      "cell_type": "code",
      "source": [
        "df2.filter(df2.salary>20000).show()"
      ],
      "metadata": {
        "colab": {
          "base_uri": "https://localhost:8080/"
        },
        "id": "XubbQIr2i8Sy",
        "outputId": "ddc7d17f-d172-4583-c385-50203c7a04ee"
      },
      "execution_count": 39,
      "outputs": [
        {
          "output_type": "stream",
          "name": "stdout",
          "text": [
            "+-------+----+------+\n",
            "|   name|dept|salary|\n",
            "+-------+----+------+\n",
            "|   arun|Mech| 45000|\n",
            "|   bala| Cse| 70000|\n",
            "|   mano|Mech| 49000|\n",
            "|abishek|Aero| 65000|\n",
            "| deepak| ece| 35000|\n",
            "+-------+----+------+\n",
            "\n"
          ]
        }
      ]
    },
    {
      "cell_type": "code",
      "source": [
        "df2.filter((df2.salary>20000)&(df2.dept==\"Aero\")).show()"
      ],
      "metadata": {
        "colab": {
          "base_uri": "https://localhost:8080/"
        },
        "id": "FiD6_mcOjSur",
        "outputId": "36f966d4-8a6e-45e7-b674-f05a41279563"
      },
      "execution_count": 40,
      "outputs": [
        {
          "output_type": "stream",
          "name": "stdout",
          "text": [
            "+-------+----+------+\n",
            "|   name|dept|salary|\n",
            "+-------+----+------+\n",
            "|abishek|Aero| 65000|\n",
            "+-------+----+------+\n",
            "\n"
          ]
        }
      ]
    },
    {
      "cell_type": "code",
      "source": [
        "df2.filter((df2.salary>20000)|(df2.dept==\"Aero\")).show()"
      ],
      "metadata": {
        "colab": {
          "base_uri": "https://localhost:8080/"
        },
        "id": "YA3Wb3gRji5I",
        "outputId": "87cc1f32-1200-4489-d0a9-f0caddb4f608"
      },
      "execution_count": 41,
      "outputs": [
        {
          "output_type": "stream",
          "name": "stdout",
          "text": [
            "+-------+----+------+\n",
            "|   name|dept|salary|\n",
            "+-------+----+------+\n",
            "|   arun|Mech| 45000|\n",
            "| mahesh|Aero| 12000|\n",
            "|   bala| Cse| 70000|\n",
            "|   mano|Mech| 49000|\n",
            "|abishek|Aero| 65000|\n",
            "| deepak| ece| 35000|\n",
            "+-------+----+------+\n",
            "\n"
          ]
        }
      ]
    },
    {
      "cell_type": "code",
      "source": [
        "x_dept= [\"Aero\",'Mech','Cse']\n",
        "y_salary= [45000,70000,49000]\n",
        "df2.filter(df2.dept.isin(x_dept)&df2.salary.isin(y_salary)).show()"
      ],
      "metadata": {
        "colab": {
          "base_uri": "https://localhost:8080/"
        },
        "id": "AjD2fgNRjq22",
        "outputId": "adc55004-a10c-465e-c365-7dbef0d06708"
      },
      "execution_count": 47,
      "outputs": [
        {
          "output_type": "stream",
          "name": "stdout",
          "text": [
            "+----+----+------+\n",
            "|name|dept|salary|\n",
            "+----+----+------+\n",
            "|arun|Mech| 45000|\n",
            "|bala| Cse| 70000|\n",
            "|mano|Mech| 49000|\n",
            "+----+----+------+\n",
            "\n"
          ]
        }
      ]
    },
    {
      "cell_type": "code",
      "source": [
        "df2.filter(df2.name.startswith(\"a\")).show()"
      ],
      "metadata": {
        "colab": {
          "base_uri": "https://localhost:8080/"
        },
        "id": "C6xmFVxNkZfY",
        "outputId": "906dc384-e085-4951-e684-a0e3b1dbaee7"
      },
      "execution_count": 48,
      "outputs": [
        {
          "output_type": "stream",
          "name": "stdout",
          "text": [
            "+-------+----+------+\n",
            "|   name|dept|salary|\n",
            "+-------+----+------+\n",
            "|   arun|Mech| 45000|\n",
            "|abishek|Aero| 65000|\n",
            "+-------+----+------+\n",
            "\n"
          ]
        }
      ]
    },
    {
      "cell_type": "code",
      "source": [
        "df2.filter(df2.name.endswith(\"a\")).show()"
      ],
      "metadata": {
        "colab": {
          "base_uri": "https://localhost:8080/"
        },
        "id": "uM00mCnYm9qx",
        "outputId": "6cb077d5-5d5f-4414-dbe2-402269ee9770"
      },
      "execution_count": 49,
      "outputs": [
        {
          "output_type": "stream",
          "name": "stdout",
          "text": [
            "+----+----+------+\n",
            "|name|dept|salary|\n",
            "+----+----+------+\n",
            "|bala| Cse| 70000|\n",
            "+----+----+------+\n",
            "\n"
          ]
        }
      ]
    },
    {
      "cell_type": "code",
      "source": [
        "df2.filter(df2.name.endswith(\"la\")|df2.name.endswith('n')).show()"
      ],
      "metadata": {
        "colab": {
          "base_uri": "https://localhost:8080/"
        },
        "id": "rwQWckfxnJEN",
        "outputId": "202ff112-bab8-4883-e092-e2fa578e5a24"
      },
      "execution_count": 53,
      "outputs": [
        {
          "output_type": "stream",
          "name": "stdout",
          "text": [
            "+-----+----+------+\n",
            "| name|dept|salary|\n",
            "+-----+----+------+\n",
            "| arun|Mech| 45000|\n",
            "| bala| Cse| 70000|\n",
            "|rohan| ece|  5000|\n",
            "+-----+----+------+\n",
            "\n"
          ]
        }
      ]
    },
    {
      "cell_type": "code",
      "source": [
        "df2.show()"
      ],
      "metadata": {
        "colab": {
          "base_uri": "https://localhost:8080/"
        },
        "id": "sWxMs6kznQer",
        "outputId": "326bcf6b-b2c2-4b15-ee67-71ade0ac634b"
      },
      "execution_count": 51,
      "outputs": [
        {
          "output_type": "stream",
          "name": "stdout",
          "text": [
            "+-------+----+------+\n",
            "|   name|dept|salary|\n",
            "+-------+----+------+\n",
            "|   arun|Mech| 45000|\n",
            "| mahesh|Aero| 12000|\n",
            "|   bala| Cse| 70000|\n",
            "|   mano|Mech| 49000|\n",
            "|abishek|Aero| 65000|\n",
            "| deepak| ece| 35000|\n",
            "|  rohan| ece|  5000|\n",
            "+-------+----+------+\n",
            "\n"
          ]
        }
      ]
    },
    {
      "cell_type": "code",
      "source": [
        "data2 = [(\"arun\",\"Mech\",45000),(\"maheshkjgsh\",\"Aero\",12000),(\"baskjgla\",\"Cse\",70000),(\"majgno\",\"Mech\",49000),(\"abishek\",\"Aero\",65000),(\"deepak\",\"ece\",35000),(\"rohan\",\"ece\",5000),(\"suresh\",\"ece\",5000),(\"prakash\",\"ece\",5000)]\n",
        "col=[\"name\",\"dept\",\"salary\"]\n",
        "df2= spark.createDataFrame(data= data2,schema=col)\n",
        "df2.printSchema()\n",
        "df2.show(truncate=False) "
      ],
      "metadata": {
        "colab": {
          "base_uri": "https://localhost:8080/"
        },
        "id": "OK_eBVNxnU-D",
        "outputId": "12940e3c-0ae7-4919-bed5-8ca19c2b32b6"
      },
      "execution_count": 60,
      "outputs": [
        {
          "output_type": "stream",
          "name": "stdout",
          "text": [
            "root\n",
            " |-- name: string (nullable = true)\n",
            " |-- dept: string (nullable = true)\n",
            " |-- salary: long (nullable = true)\n",
            "\n",
            "+-----------+----+------+\n",
            "|name       |dept|salary|\n",
            "+-----------+----+------+\n",
            "|arun       |Mech|45000 |\n",
            "|maheshkjgsh|Aero|12000 |\n",
            "|baskjgla   |Cse |70000 |\n",
            "|majgno     |Mech|49000 |\n",
            "|abishek    |Aero|65000 |\n",
            "|deepak     |ece |35000 |\n",
            "|rohan      |ece |5000  |\n",
            "|suresh     |ece |5000  |\n",
            "|prakash    |ece |5000  |\n",
            "+-----------+----+------+\n",
            "\n"
          ]
        }
      ]
    },
    {
      "cell_type": "code",
      "source": [
        "df2.filter(df2.name.contains(\"jg\")).show()"
      ],
      "metadata": {
        "colab": {
          "base_uri": "https://localhost:8080/"
        },
        "id": "GYWDxv-Noinr",
        "outputId": "13d1ad48-6b34-4cae-e937-f3f67c3a36b5"
      },
      "execution_count": 55,
      "outputs": [
        {
          "output_type": "stream",
          "name": "stdout",
          "text": [
            "+--------+----+------+\n",
            "|    name|dept|salary|\n",
            "+--------+----+------+\n",
            "|mahejgsh|Aero| 12000|\n",
            "|  bajgla| Cse| 70000|\n",
            "|  majgno|Mech| 49000|\n",
            "+--------+----+------+\n",
            "\n"
          ]
        }
      ]
    },
    {
      "cell_type": "code",
      "source": [
        "df2.filter(df2.name.contains(\"sh\")).show()"
      ],
      "metadata": {
        "colab": {
          "base_uri": "https://localhost:8080/"
        },
        "id": "545pdXVFowaU",
        "outputId": "b59b5226-4e82-40f5-f26e-48e3f1d2cb78"
      },
      "execution_count": 56,
      "outputs": [
        {
          "output_type": "stream",
          "name": "stdout",
          "text": [
            "+--------+----+------+\n",
            "|    name|dept|salary|\n",
            "+--------+----+------+\n",
            "|mahejgsh|Aero| 12000|\n",
            "| abishek|Aero| 65000|\n",
            "|  suresh| ece|  5000|\n",
            "| prakash| ece|  5000|\n",
            "+--------+----+------+\n",
            "\n"
          ]
        }
      ]
    },
    {
      "cell_type": "code",
      "source": [
        "df2.filter(df2.name.like('%jg%')).show()"
      ],
      "metadata": {
        "colab": {
          "base_uri": "https://localhost:8080/"
        },
        "id": "6R1BSmnQo6BS",
        "outputId": "664b3474-a6e7-4a21-872f-6c47be877f9a"
      },
      "execution_count": 58,
      "outputs": [
        {
          "output_type": "stream",
          "name": "stdout",
          "text": [
            "+----------+----+------+\n",
            "|      name|dept|salary|\n",
            "+----------+----+------+\n",
            "|maheshjgsh|Aero| 12000|\n",
            "|  baskjgla| Cse| 70000|\n",
            "|    majgno|Mech| 49000|\n",
            "+----------+----+------+\n",
            "\n"
          ]
        }
      ]
    },
    {
      "cell_type": "code",
      "source": [
        "df2.filter(df2.name.like('%s%jg%')).show()"
      ],
      "metadata": {
        "colab": {
          "base_uri": "https://localhost:8080/"
        },
        "id": "ljURpIbjpY8S",
        "outputId": "545f1a59-53c0-43e2-8f46-9bee5b20fc70"
      },
      "execution_count": 63,
      "outputs": [
        {
          "output_type": "stream",
          "name": "stdout",
          "text": [
            "+-----------+----+------+\n",
            "|       name|dept|salary|\n",
            "+-----------+----+------+\n",
            "|maheshkjgsh|Aero| 12000|\n",
            "|   baskjgla| Cse| 70000|\n",
            "+-----------+----+------+\n",
            "\n"
          ]
        }
      ]
    },
    {
      "cell_type": "code",
      "source": [
        "data2 = [(10,\"arun\",101,45000),(11,\"mahesh\",102,12000),(12,\"bala\",103,70000),(13,\"mano\",104,49000),(14,\"abishek\",105,65000),(15,\"deepak\",106,35000),(16,\"rohan\",102,5000),(17,\"suresh\",105,5000),(18,\"prakash\",103,5000),(19,\"surender\",106,5000)]\n",
        "col=[\"id\",\"name\",\"dept_id\",\"salary\"]\n",
        "df_emp= spark.createDataFrame(data= data2,schema=col)\n",
        "df_emp.printSchema()\n",
        "df_emp.show(truncate=False) \n",
        "data3 = [(\"hr\",101),(\"rmg\",102),(\"r&d\",103),(\"marketing\",104),(\"accounts\",105),(\"sales\",107)]\n",
        "col3 = [\"dept\",'deptID']\n",
        "df_dept = spark.createDataFrame(data= data3,schema=col3)\n",
        "df_dept.printSchema()\n",
        "df_dept.show()"
      ],
      "metadata": {
        "colab": {
          "base_uri": "https://localhost:8080/"
        },
        "id": "_LDSZX9xpmR4",
        "outputId": "c413ca40-a10b-4f5d-91c2-aedb9193cd55"
      },
      "execution_count": 65,
      "outputs": [
        {
          "output_type": "stream",
          "name": "stdout",
          "text": [
            "root\n",
            " |-- id: long (nullable = true)\n",
            " |-- name: string (nullable = true)\n",
            " |-- dept_id: long (nullable = true)\n",
            " |-- salary: long (nullable = true)\n",
            "\n",
            "+---+--------+-------+------+\n",
            "|id |name    |dept_id|salary|\n",
            "+---+--------+-------+------+\n",
            "|10 |arun    |101    |45000 |\n",
            "|11 |mahesh  |102    |12000 |\n",
            "|12 |bala    |103    |70000 |\n",
            "|13 |mano    |104    |49000 |\n",
            "|14 |abishek |105    |65000 |\n",
            "|15 |deepak  |106    |35000 |\n",
            "|16 |rohan   |102    |5000  |\n",
            "|17 |suresh  |105    |5000  |\n",
            "|18 |prakash |103    |5000  |\n",
            "|19 |surender|106    |5000  |\n",
            "+---+--------+-------+------+\n",
            "\n",
            "root\n",
            " |-- dept: string (nullable = true)\n",
            " |-- deptID: long (nullable = true)\n",
            "\n",
            "+---------+------+\n",
            "|     dept|deptID|\n",
            "+---------+------+\n",
            "|       hr|   101|\n",
            "|      rmg|   102|\n",
            "|      r&d|   103|\n",
            "|marketing|   104|\n",
            "| accounts|   105|\n",
            "|    sales|   107|\n",
            "+---------+------+\n",
            "\n"
          ]
        }
      ]
    },
    {
      "cell_type": "code",
      "source": [
        "df_emp.join(df_dept,df_emp.dept_id==df_dept.deptID,\"inner\").show()"
      ],
      "metadata": {
        "colab": {
          "base_uri": "https://localhost:8080/"
        },
        "id": "_yo-oX9-ujU1",
        "outputId": "0ae14ce9-3d5e-40aa-b06b-20922d308f9f"
      },
      "execution_count": 66,
      "outputs": [
        {
          "output_type": "stream",
          "name": "stdout",
          "text": [
            "+---+-------+-------+------+---------+------+\n",
            "| id|   name|dept_id|salary|     dept|deptID|\n",
            "+---+-------+-------+------+---------+------+\n",
            "| 10|   arun|    101| 45000|       hr|   101|\n",
            "| 11| mahesh|    102| 12000|      rmg|   102|\n",
            "| 16|  rohan|    102|  5000|      rmg|   102|\n",
            "| 12|   bala|    103| 70000|      r&d|   103|\n",
            "| 18|prakash|    103|  5000|      r&d|   103|\n",
            "| 13|   mano|    104| 49000|marketing|   104|\n",
            "| 14|abishek|    105| 65000| accounts|   105|\n",
            "| 17| suresh|    105|  5000| accounts|   105|\n",
            "+---+-------+-------+------+---------+------+\n",
            "\n"
          ]
        }
      ]
    },
    {
      "cell_type": "code",
      "source": [
        "df_emp.join(df_dept,df_emp.dept_id==df_dept.deptID,\"outer\").show() #instead of outer we can use full or fullouter"
      ],
      "metadata": {
        "colab": {
          "base_uri": "https://localhost:8080/"
        },
        "id": "EzaAEDiKwjYa",
        "outputId": "9811bcc6-ad61-4e21-8ed0-ba06ed2da500"
      },
      "execution_count": 67,
      "outputs": [
        {
          "output_type": "stream",
          "name": "stdout",
          "text": [
            "+----+--------+-------+------+---------+------+\n",
            "|  id|    name|dept_id|salary|     dept|deptID|\n",
            "+----+--------+-------+------+---------+------+\n",
            "|  10|    arun|    101| 45000|       hr|   101|\n",
            "|  11|  mahesh|    102| 12000|      rmg|   102|\n",
            "|  16|   rohan|    102|  5000|      rmg|   102|\n",
            "|  12|    bala|    103| 70000|      r&d|   103|\n",
            "|  18| prakash|    103|  5000|      r&d|   103|\n",
            "|  13|    mano|    104| 49000|marketing|   104|\n",
            "|  14| abishek|    105| 65000| accounts|   105|\n",
            "|  17|  suresh|    105|  5000| accounts|   105|\n",
            "|  15|  deepak|    106| 35000|     null|  null|\n",
            "|  19|surender|    106|  5000|     null|  null|\n",
            "|null|    null|   null|  null|    sales|   107|\n",
            "+----+--------+-------+------+---------+------+\n",
            "\n"
          ]
        }
      ]
    },
    {
      "cell_type": "code",
      "source": [
        "df_emp.join(df_dept,df_emp.dept_id==df_dept.deptID,\"left_outer\").show() # left,leftouter,left_outer are same"
      ],
      "metadata": {
        "colab": {
          "base_uri": "https://localhost:8080/"
        },
        "id": "Q3vYQtFkxRC1",
        "outputId": "666bf81c-e038-4baa-a377-ee6d5cf15c80"
      },
      "execution_count": 70,
      "outputs": [
        {
          "output_type": "stream",
          "name": "stdout",
          "text": [
            "+---+--------+-------+------+---------+------+\n",
            "| id|    name|dept_id|salary|     dept|deptID|\n",
            "+---+--------+-------+------+---------+------+\n",
            "| 10|    arun|    101| 45000|       hr|   101|\n",
            "| 11|  mahesh|    102| 12000|      rmg|   102|\n",
            "| 16|   rohan|    102|  5000|      rmg|   102|\n",
            "| 12|    bala|    103| 70000|      r&d|   103|\n",
            "| 18| prakash|    103|  5000|      r&d|   103|\n",
            "| 13|    mano|    104| 49000|marketing|   104|\n",
            "| 14| abishek|    105| 65000| accounts|   105|\n",
            "| 17|  suresh|    105|  5000| accounts|   105|\n",
            "| 15|  deepak|    106| 35000|     null|  null|\n",
            "| 19|surender|    106|  5000|     null|  null|\n",
            "+---+--------+-------+------+---------+------+\n",
            "\n"
          ]
        }
      ]
    },
    {
      "cell_type": "code",
      "source": [
        "df_emp.join(df_dept,df_emp.dept_id==df_dept.deptID,\"right\").show() # right,rightouter,right_outer are same"
      ],
      "metadata": {
        "colab": {
          "base_uri": "https://localhost:8080/"
        },
        "id": "k869n76XyRfJ",
        "outputId": "480510ce-f78c-412f-c85f-f3462bd8d5c7"
      },
      "execution_count": 69,
      "outputs": [
        {
          "output_type": "stream",
          "name": "stdout",
          "text": [
            "+----+-------+-------+------+---------+------+\n",
            "|  id|   name|dept_id|salary|     dept|deptID|\n",
            "+----+-------+-------+------+---------+------+\n",
            "|  10|   arun|    101| 45000|       hr|   101|\n",
            "|  11| mahesh|    102| 12000|      rmg|   102|\n",
            "|  16|  rohan|    102|  5000|      rmg|   102|\n",
            "|  12|   bala|    103| 70000|      r&d|   103|\n",
            "|  18|prakash|    103|  5000|      r&d|   103|\n",
            "|  13|   mano|    104| 49000|marketing|   104|\n",
            "|  14|abishek|    105| 65000| accounts|   105|\n",
            "|  17| suresh|    105|  5000| accounts|   105|\n",
            "|null|   null|   null|  null|    sales|   107|\n",
            "+----+-------+-------+------+---------+------+\n",
            "\n"
          ]
        }
      ]
    },
    {
      "cell_type": "code",
      "source": [
        "df_emp.join(df_dept,df_emp.dept_id==df_dept.deptID,\"leftsemi\").show()"
      ],
      "metadata": {
        "colab": {
          "base_uri": "https://localhost:8080/"
        },
        "id": "fLsuDcdiyxc2",
        "outputId": "f492270b-6d2a-4851-f6d4-8d39ffcfb0c3"
      },
      "execution_count": 71,
      "outputs": [
        {
          "output_type": "stream",
          "name": "stdout",
          "text": [
            "+---+-------+-------+------+\n",
            "| id|   name|dept_id|salary|\n",
            "+---+-------+-------+------+\n",
            "| 10|   arun|    101| 45000|\n",
            "| 11| mahesh|    102| 12000|\n",
            "| 16|  rohan|    102|  5000|\n",
            "| 12|   bala|    103| 70000|\n",
            "| 18|prakash|    103|  5000|\n",
            "| 13|   mano|    104| 49000|\n",
            "| 14|abishek|    105| 65000|\n",
            "| 17| suresh|    105|  5000|\n",
            "+---+-------+-------+------+\n",
            "\n"
          ]
        }
      ]
    },
    {
      "cell_type": "code",
      "source": [
        "df_emp.join(df_dept,df_emp.dept_id==df_dept.deptID,\"leftanti\").show() #opposite to leftsemi"
      ],
      "metadata": {
        "colab": {
          "base_uri": "https://localhost:8080/"
        },
        "id": "vinu3nLjzs5T",
        "outputId": "ffead894-3be8-47b4-d612-0b77bd9b11ba"
      },
      "execution_count": 72,
      "outputs": [
        {
          "output_type": "stream",
          "name": "stdout",
          "text": [
            "+---+--------+-------+------+\n",
            "| id|    name|dept_id|salary|\n",
            "+---+--------+-------+------+\n",
            "| 15|  deepak|    106| 35000|\n",
            "| 19|surender|    106|  5000|\n",
            "+---+--------+-------+------+\n",
            "\n"
          ]
        }
      ]
    },
    {
      "cell_type": "code",
      "source": [
        "data2 = [(10,\"arun\",101,45000),(11,\"mahesh\",102,12000),(12,\"bala\",103,70000),(13,\"mano\",104,49000),(14,\"abishek\",105,65000),(15,\"deepak\",106,35000)]\n",
        "data3 = [(16,\"rohan\",102,5000),(17,\"suresh\",105,5000),(18,\"prakash\",103,5000),(19,\"surender\",106,5000),(14,\"abishek\",105,65000)]\n",
        "col=[\"id\",\"name\",\"dept_id\",\"salary\"]\n",
        "df_emp1= spark.createDataFrame(data= data2,schema=col)\n",
        "df_emp1.printSchema()\n",
        "df_emp1.show(truncate=False)\n",
        "df_emp2= spark.createDataFrame(data= data3,schema=col)\n",
        "df_emp2.printSchema()\n",
        "df_emp2.show(truncate=False)  "
      ],
      "metadata": {
        "colab": {
          "base_uri": "https://localhost:8080/"
        },
        "id": "HaTxx8fj0NQQ",
        "outputId": "f62febcd-2058-4c81-eff1-0a9ac560124c"
      },
      "execution_count": 77,
      "outputs": [
        {
          "output_type": "stream",
          "name": "stdout",
          "text": [
            "root\n",
            " |-- id: long (nullable = true)\n",
            " |-- name: string (nullable = true)\n",
            " |-- dept_id: long (nullable = true)\n",
            " |-- salary: long (nullable = true)\n",
            "\n",
            "+---+-------+-------+------+\n",
            "|id |name   |dept_id|salary|\n",
            "+---+-------+-------+------+\n",
            "|10 |arun   |101    |45000 |\n",
            "|11 |mahesh |102    |12000 |\n",
            "|12 |bala   |103    |70000 |\n",
            "|13 |mano   |104    |49000 |\n",
            "|14 |abishek|105    |65000 |\n",
            "|15 |deepak |106    |35000 |\n",
            "+---+-------+-------+------+\n",
            "\n",
            "root\n",
            " |-- id: long (nullable = true)\n",
            " |-- name: string (nullable = true)\n",
            " |-- dept_id: long (nullable = true)\n",
            " |-- salary: long (nullable = true)\n",
            "\n",
            "+---+--------+-------+------+\n",
            "|id |name    |dept_id|salary|\n",
            "+---+--------+-------+------+\n",
            "|16 |rohan   |102    |5000  |\n",
            "|17 |suresh  |105    |5000  |\n",
            "|18 |prakash |103    |5000  |\n",
            "|19 |surender|106    |5000  |\n",
            "|14 |abishek |105    |65000 |\n",
            "+---+--------+-------+------+\n",
            "\n"
          ]
        }
      ]
    },
    {
      "cell_type": "code",
      "source": [
        "df_emp_new = df_emp2.union(df_emp1)\n",
        "df_emp_new.show()"
      ],
      "metadata": {
        "colab": {
          "base_uri": "https://localhost:8080/"
        },
        "id": "i7oPliuv0m7O",
        "outputId": "06636dff-b792-4a2c-9aa5-2f3eb85fd720"
      },
      "execution_count": 78,
      "outputs": [
        {
          "output_type": "stream",
          "name": "stdout",
          "text": [
            "+---+--------+-------+------+\n",
            "| id|    name|dept_id|salary|\n",
            "+---+--------+-------+------+\n",
            "| 16|   rohan|    102|  5000|\n",
            "| 17|  suresh|    105|  5000|\n",
            "| 18| prakash|    103|  5000|\n",
            "| 19|surender|    106|  5000|\n",
            "| 14| abishek|    105| 65000|\n",
            "| 10|    arun|    101| 45000|\n",
            "| 11|  mahesh|    102| 12000|\n",
            "| 12|    bala|    103| 70000|\n",
            "| 13|    mano|    104| 49000|\n",
            "| 14| abishek|    105| 65000|\n",
            "| 15|  deepak|    106| 35000|\n",
            "+---+--------+-------+------+\n",
            "\n"
          ]
        }
      ]
    },
    {
      "cell_type": "code",
      "source": [
        "df_emp_new = df_emp2.union(df_emp1).distinct()\n",
        "df_emp_new.show()"
      ],
      "metadata": {
        "colab": {
          "base_uri": "https://localhost:8080/"
        },
        "id": "CmC8y5aA1egj",
        "outputId": "70d66fed-8fd8-47f8-904b-842065f20a75"
      },
      "execution_count": 79,
      "outputs": [
        {
          "output_type": "stream",
          "name": "stdout",
          "text": [
            "+---+--------+-------+------+\n",
            "| id|    name|dept_id|salary|\n",
            "+---+--------+-------+------+\n",
            "| 17|  suresh|    105|  5000|\n",
            "| 16|   rohan|    102|  5000|\n",
            "| 19|surender|    106|  5000|\n",
            "| 18| prakash|    103|  5000|\n",
            "| 14| abishek|    105| 65000|\n",
            "| 10|    arun|    101| 45000|\n",
            "| 11|  mahesh|    102| 12000|\n",
            "| 12|    bala|    103| 70000|\n",
            "| 13|    mano|    104| 49000|\n",
            "| 15|  deepak|    106| 35000|\n",
            "+---+--------+-------+------+\n",
            "\n"
          ]
        }
      ]
    },
    {
      "cell_type": "code",
      "source": [
        ""
      ],
      "metadata": {
        "id": "fxcP6dWI2QRa"
      },
      "execution_count": null,
      "outputs": []
    }
  ]
}